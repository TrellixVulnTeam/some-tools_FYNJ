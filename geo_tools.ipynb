{
 "cells": [
  {
   "cell_type": "markdown",
   "metadata": {},
   "source": [
    "#### 地址位置信息计算工具\n",
    "1. KD-Tree 索引：以当前位置为圆心，可以快速检索出指定距离范围内的商家和服务。优点是精度最高。\n",
    "2. GeoHash 索引：对区域进行正方形和六边形的划分，快速找出 GeoHash 范围内的商家和服务。 缺点是精度不太高，如果当前实时位置在区域边沿，这个位置可能与另一个邻接 GeoHash 内商家和服务的距离会更近。(一般的数据库都支持，比如mysql gis, redis geo, solar空间索引...)"
   ]
  },
  {
   "cell_type": "markdown",
   "metadata": {},
   "source": [
    "- redis GEO hash"
   ]
  },
  {
   "cell_type": "code",
   "execution_count": 48,
   "metadata": {},
   "outputs": [],
   "source": [
    "import redis\n",
    "r = redis.from_url(\"redis:127.0.0.1/0\", decode_responses=True)"
   ]
  },
  {
   "cell_type": "code",
   "execution_count": 8,
   "metadata": {},
   "outputs": [],
   "source": [
    "import sqlite3\n",
    "conn = sqlite3.connect(\"geo.db\")"
   ]
  },
  {
   "cell_type": "markdown",
   "metadata": {},
   "source": [
    "1. 导入中国省市地理位置信息"
   ]
  },
  {
   "cell_type": "code",
   "execution_count": 43,
   "metadata": {},
   "outputs": [],
   "source": [
    "cursor = conn.cursor()\n",
    "pipe = r.pipeline()\n",
    "rows = cursor.execute(\"select name, lng, lat from region;\")\n",
    "for row in rows:\n",
    "    pipe.geoadd(\"locations\",float('%.5f'%float(row[1])),  float('%.5f'%float(row[2])), row[0])\n",
    "res = pipe.execute()"
   ]
  },
  {
   "cell_type": "markdown",
   "metadata": {},
   "source": [
    "- 获取城市经纬度"
   ]
  },
  {
   "cell_type": "code",
   "execution_count": 34,
   "metadata": {},
   "outputs": [
    {
     "data": {
      "text/plain": [
       "[(116.39564841985703, 39.92999091242822)]"
      ]
     },
     "execution_count": 34,
     "metadata": {},
     "output_type": "execute_result"
    }
   ],
   "source": [
    "r.geopos(\"locations\",  \"北京市\")"
   ]
  },
  {
   "cell_type": "markdown",
   "metadata": {},
   "source": [
    "- 获取两个地理位置的距离 (geodist key member1 member2 [unit]) unit表示返回结果的单位， 包括m, km, miI（英里）, ft（尺）"
   ]
  },
  {
   "cell_type": "code",
   "execution_count": 42,
   "metadata": {},
   "outputs": [
    {
     "data": {
      "text/plain": [
       "1069266.0329"
      ]
     },
     "execution_count": 42,
     "metadata": {},
     "output_type": "execute_result"
    }
   ],
   "source": [
    "r.geodist(\"locations\", \"北京市\", \"上海市\", \"m\")"
   ]
  },
  {
   "cell_type": "markdown",
   "metadata": {},
   "source": [
    "- 获取指定位置范围内的地理信息位置集合\n",
    "\n",
    "```sh\n",
    "   georadius key longitude latitude radiusm|km|ft|mi [withcoord] [withdist] [withhash] [count] [asc|desc] \n",
    "```\n",
    "- withdist 显示距离\n",
    "- withhash 显示hash值"
   ]
  },
  {
   "cell_type": "code",
   "execution_count": 50,
   "metadata": {},
   "outputs": [
    {
     "data": {
      "text/plain": [
       "[['门头沟区', 51.7398, (115.79579919576645, 40.00088959797609)],\n",
       " ['怀来县', 79.7182, (115.63406199216843, 40.34797910520901)],\n",
       " ['石景山区', 18.0298, (116.18455857038498, 39.938870040649384)],\n",
       " ['海淀区', 17.5609, (116.23967796564102, 40.033159133055634)],\n",
       " ['北京市', 0.0006, (116.39564841985703, 39.92999091242822)],\n",
       " ['西城区', 1.974, (116.37318760156631, 39.93427966062982)],\n",
       " ['东城区', 2.4328, (116.42188042402267, 39.938570943552584)],\n",
       " ['昌平区', 35.8535, (116.21646076440811, 40.22171957482002)],\n",
       " ['延庆区', 70.2112, (116.16187781095505, 40.53548003352879)],\n",
       " ['怀柔区', 80.5327, (116.59340769052505, 40.638138775203174)],\n",
       " ['大厂回族自治县', 47.8828, (116.9550821185112, 39.89532099641078)],\n",
       " ['三河市', 53.5089, (117.02127903699875, 39.96742874395165)],\n",
       " ['顺义区', 37.7905, (116.72823160886765, 40.15494995004071)],\n",
       " ['平谷区', 71.6834, (117.15042740106583, 40.21593027169208)],\n",
       " ['密云区', 88.3853, (117.09667056798935, 40.51732889530676)],\n",
       " ['蓟州区', 92.0341, (117.4703398346901, 40.00945949021581)],\n",
       " ['霸州市', 92.5579, (116.57431036233902, 39.10931917322673)],\n",
       " ['定兴县', 96.9659, (115.7550510764122, 39.21151913037128)],\n",
       " ['涿州市', 60.2424, (115.99905163049698, 39.48248082230461)],\n",
       " ['涞水县', 88.4771, (115.44462829828262, 39.61611892598844)],\n",
       " ['房山区', 50.816, (115.86283832788467, 39.72674936570895)],\n",
       " ['高碑店市', 79.9583, (116.04093164205551, 39.26509046207391)],\n",
       " ['固安县', 65.023, (116.28966897726059, 39.35110875933723)],\n",
       " ['永清县', 71.1718, (116.56056135892868, 39.302840064299936)],\n",
       " ['广阳区', 50.9438, (116.69424265623093, 39.53368979388673)],\n",
       " ['廊坊市', 52.7978, (116.70359820127487, 39.51861073770983)],\n",
       " ['丰台区', 15.2699, (116.2583675980568, 39.84193976879511)],\n",
       " ['大兴区', 30.9348, (116.42519026994705, 39.65278873700059)],\n",
       " ['安次区', 73.5235, (116.79611831903458, 39.34530931732466)],\n",
       " ['武清区', 75.8775, (117.03457742929459, 39.45703982602833)],\n",
       " ['香河县', 59.7322, (117.05130904912949, 39.74310085190783)],\n",
       " ['宝坻区', 93.6139, (117.41142243146896, 39.615541009564105)]]"
      ]
     },
     "execution_count": 50,
     "metadata": {},
     "output_type": "execute_result"
    }
   ],
   "source": [
    "r.georadius(\"locations\", '116.39564503788', '39.92998577808', \"100\", \"km\", \"withcoord\", \"withdist\")"
   ]
  },
  {
   "cell_type": "markdown",
   "metadata": {},
   "source": [
    "- 与 georadius 的区别在于， georadius需要指定经纬度， georadiusbymember指定成员名"
   ]
  },
  {
   "cell_type": "code",
   "execution_count": 53,
   "metadata": {},
   "outputs": [
    {
     "data": {
      "text/plain": [
       "['石景山区', '海淀区', '北京市', '西城区', '东城区', '昌平区', '丰台区', '大兴区', '大厂回族自治县', '顺义区']"
      ]
     },
     "execution_count": 53,
     "metadata": {},
     "output_type": "execute_result"
    }
   ],
   "source": [
    "r.georadiusbymember(\"locations\", \"北京市\", \"50\", \"km\")"
   ]
  },
  {
   "cell_type": "markdown",
   "metadata": {},
   "source": [
    "- 获取geohash\n",
    "\n",
    "```sh\n",
    "geohash key member\n",
    "```\n",
    "> redis 使用geohash 将二维经纬度转换为一维字符串, geo的数据类型是zset, hash值的字符串越长，精度越高。长度为9时，精度在2m左右\n",
    "\n",
    "> 原理参考：https://blog.csdn.net/u011497262/article/details/81210634 https://www.cnblogs.com/LBSer/p/3310455.html"
   ]
  },
  {
   "cell_type": "code",
   "execution_count": 54,
   "metadata": {},
   "outputs": [
    {
     "data": {
      "text/plain": [
       "['wx4g0th9p10']"
      ]
     },
     "execution_count": 54,
     "metadata": {},
     "output_type": "execute_result"
    }
   ],
   "source": [
    "r.geohash(\"locations\", \"北京市\")"
   ]
  }
 ],
 "metadata": {
  "kernelspec": {
   "display_name": "Python 3",
   "language": "python",
   "name": "python3"
  }
 },
 "nbformat": 4,
 "nbformat_minor": 2
}
